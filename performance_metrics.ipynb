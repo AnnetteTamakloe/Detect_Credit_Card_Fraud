{
 "cells": [
  {
   "cell_type": "markdown",
   "id": "3aecbd17-36db-4428-a4d5-ebaa3667bead",
   "metadata": {},
   "source": [
    "# Performance Metrics for Binary Classification Problems"
   ]
  },
  {
   "cell_type": "code",
   "execution_count": 7,
   "id": "9a6a57d9-d1f2-4d89-a9e2-e4819308a1d8",
   "metadata": {},
   "outputs": [],
   "source": [
    "import os\n",
    "import pandas as pd\n",
    "import numpy as np\n",
    "import math\n",
    "import sys\n",
    "import time\n",
    "import pickle\n",
    "import json\n",
    "import datetime\n",
    "import random\n",
    "\n",
    "import sklearn\n",
    "from sklearn import *\n",
    "\n",
    "%matplotlib inline\n",
    "\n",
    "import matplotlib\n",
    "import matplotlib.pyplot as plt\n",
    "import seaborn as sns\n",
    "\n",
    "sns.set_style('darkgrid', {'axes.facecolor': '0.9'})\n",
    "\n",
    "import graphviz\n",
    "import xgboost\n",
    "from sklearn.tree import DecisionTreeRegressor, DecisionTreeClassifier,export_graphviz\n",
    "from sklearn.datasets import make_regression\n",
    "from sklearn.metrics import confusion_matrix\n",
    "\n",
    "# For imbalanced learning\n",
    "import imblearn\n",
    "\n",
    "import warnings\n",
    "warnings.filterwarnings('ignore')\n",
    "\n",
    "from IPython.display import Image"
   ]
  },
  {
   "cell_type": "markdown",
   "id": "3ea7e4ed-6314-4a50-aa48-9dadf1d17fb5",
   "metadata": {},
   "source": [
    "## Threshold Based Metrics"
   ]
  },
  {
   "cell_type": "markdown",
   "id": "8b8b20ff-1cf3-4265-9a00-5e2521a52388",
   "metadata": {},
   "source": [
    "Binary classification problems are problems by which you are trying to train a model to recognize a data point as one thing or the other-as 1 or 0. Fraud dection is usually considered a binary classification issue. For this issue, a system recieves transactions and is given the goal to predict whether or not a transaction is likely to be geniune or fraudulent. Usually a system returns a fraud score and after, a set of transactions only need to be ordered. The higher the value, the higher the likelihood(or probability) of fraud. \n",
    "Lets assume the probability p(x) for a transaction x to be fraud, is a value between 0 and 1. The decision to classify a transaction as fraudulent can then be made by setting a threshold 0<=t<=1 on the probability p(x), so that way if p(x)>t, then the transaction is classified as fraudulent, or genuine if p(x)<t. \n",
    "Yet how do we get the threshold(s)?\n",
    "How do we determine our thresholds are optimal enough for our model?\n",
    "Answer's to answered later"
   ]
  },
  {
   "cell_type": "markdown",
   "id": "27f9a8ca-a83f-4636-a724-0004adf29145",
   "metadata": {},
   "source": [
    "### Confusion Matrix"
   ]
  },
  {
   "cell_type": "markdown",
   "id": "07434daf-48b7-4b99-96de-7410bbfa4c94",
   "metadata": {},
   "source": [
    "Once we choose our threshold, we'll have to determine whether or not this threshold is even good enough for our binary classification problem. This is where our Confusion Matrix comes in. The outcome of a binary classification problem is usually reprented as a confusion matrix.\n",
    "\n",
    "1. Y1 is the set of positive instances \n",
    "2. Y0 is the set of negative ones \n",
    "3. Y1hat is the set of transactions *predicted* as positive\n",
    "4. Y0hat is the set of transactions *predicted* as negative"
   ]
  },
  {
   "cell_type": "code",
   "execution_count": 13,
   "id": "013c98fd-37b1-4b91-8786-f1e5814ea743",
   "metadata": {},
   "outputs": [
    {
     "data": {
      "text/html": [
       "<img src=\"confusion.png\" width=\"300\" height=\"300\"/>"
      ],
      "text/plain": [
       "<IPython.core.display.Image object>"
      ]
     },
     "execution_count": 13,
     "metadata": {},
     "output_type": "execute_result"
    }
   ],
   "source": [
    "Image(url=\"confusion.png\", width=300, height=300)"
   ]
  },
  {
   "cell_type": "markdown",
   "id": "3e220c76-b952-42af-8808-4fee97fd8e4c",
   "metadata": {},
   "source": [
    "There are 4 possible outcomes:\n",
    "1. TP: True positives. Instances of 1(frauds) that the classifier predicts as fraudulent \n",
    "2. TN: True negatives. These are the instances of class 0(genuine transactions), that the classifier correctly predicts as frauds \n",
    "3. FP: False positives. Class 0(genuine transactions) that the classifier incorrectly predicts as frauds \n",
    "4. FN: False negatives. Class 1(frauds) that the classifier incorrectly predicts as genuine transactions "
   ]
  },
  {
   "cell_type": "markdown",
   "id": "27bc90e2-cd00-42a4-ab72-8ddcaa8bc442",
   "metadata": {},
   "source": [
    "### Mean Classification"
   ]
  },
  {
   "cell_type": "markdown",
   "id": "83dbe8ff-6864-403b-bf45-934a19ebfcc6",
   "metadata": {},
   "source": [
    "The simplest and way that makes the most sense in seeing if a binary classifier is good is to compute the proportion of misclassified instances (False negatives and false positives). This is known as the mean classification error (MME)\n",
    "\n",
    "                                                                                                    MME = FP + FN/ N\n",
    "                            \n",
    "                                                                                                 N = TN + TP + FN + FP\n",
    "Accuracy = 1-MME = TP + TN/N: Measures for the set of transactions that are classified correctly\n",
    "                                          \n",
    "Precision = TP /TP + FP: Measures for the set of transactions that are predicted as fraudulent, the proportion of transactions that are indeed fraudulent\n",
    "                                            \n",
    "Recall(TPR) = TP/ TP + FN: Measures the Proportion of negatives that are correctly identified \n",
    "                                            \n",
    "F1 Score = 2 * (Precision * Recall/ Precision + Recall): Total measure of precision and recall, which can only be computed once a confusion matrix is available (only when threshold t is used for classification)\n",
    "                               \n",
    "Specificity(TNR) = TN/ FP + TN: Measures the proportion of negatives that are correctly identified"
   ]
  },
  {
   "cell_type": "code",
   "execution_count": 8,
   "id": "c9d073df-e0df-4f9e-b9be-656209af6e8d",
   "metadata": {},
   "outputs": [],
   "source": [
    "# Implementation of the mean misclassification error\n",
    "def compute_MME(true_labels,predicted_classes):\n",
    "    \n",
    "    N = len(true_labels)\n",
    "    \n",
    "    MME = np.sum(np.array(true_labels)!=np.array(predicted_classes))/N\n",
    "    \n",
    "    return MME"
   ]
  },
  {
   "cell_type": "code",
   "execution_count": 9,
   "id": "16156ed4-cffa-401e-9d24-1cd9321508b7",
   "metadata": {},
   "outputs": [],
   "source": [
    "thresholds=[1,0.5,0.3]"
   ]
  },
  {
   "cell_type": "markdown",
   "id": "3d78e242-e643-459e-8a63-d6e165724b11",
   "metadata": {},
   "source": [
    "Lets test this out with an example"
   ]
  },
  {
   "cell_type": "code",
   "execution_count": 10,
   "id": "1e49190f-d711-453b-b81f-5a26bde65c58",
   "metadata": {},
   "outputs": [],
   "source": [
    "# 3 fraudulent and 9 genuine transactions\n",
    "true_labels = [1,1,0,0,0,0,0,0,0,0]\n",
    "\n",
    "# Probability of fraud for each transaction\n",
    "fraud_probabilities = [0.9,0.35,0.45,0.4,0.2,0.2,0.2,0.1,0.1,0]"
   ]
  },
  {
   "cell_type": "code",
   "execution_count": 11,
   "id": "d9aab560-8acc-490b-9e5a-77c014ea52d8",
   "metadata": {},
   "outputs": [
    {
     "data": {
      "text/html": [
       "<div>\n",
       "<style scoped>\n",
       "    .dataframe tbody tr th:only-of-type {\n",
       "        vertical-align: middle;\n",
       "    }\n",
       "\n",
       "    .dataframe tbody tr th {\n",
       "        vertical-align: top;\n",
       "    }\n",
       "\n",
       "    .dataframe thead th {\n",
       "        text-align: right;\n",
       "    }\n",
       "</style>\n",
       "<table border=\"1\" class=\"dataframe\">\n",
       "  <thead>\n",
       "    <tr style=\"text-align: right;\">\n",
       "      <th></th>\n",
       "      <th>label</th>\n",
       "      <th>f_probrabilities</th>\n",
       "    </tr>\n",
       "  </thead>\n",
       "  <tbody>\n",
       "    <tr>\n",
       "      <th>0</th>\n",
       "      <td>1</td>\n",
       "      <td>0.90</td>\n",
       "    </tr>\n",
       "    <tr>\n",
       "      <th>1</th>\n",
       "      <td>1</td>\n",
       "      <td>0.35</td>\n",
       "    </tr>\n",
       "    <tr>\n",
       "      <th>2</th>\n",
       "      <td>0</td>\n",
       "      <td>0.45</td>\n",
       "    </tr>\n",
       "    <tr>\n",
       "      <th>3</th>\n",
       "      <td>0</td>\n",
       "      <td>0.40</td>\n",
       "    </tr>\n",
       "    <tr>\n",
       "      <th>4</th>\n",
       "      <td>0</td>\n",
       "      <td>0.20</td>\n",
       "    </tr>\n",
       "    <tr>\n",
       "      <th>5</th>\n",
       "      <td>0</td>\n",
       "      <td>0.20</td>\n",
       "    </tr>\n",
       "    <tr>\n",
       "      <th>6</th>\n",
       "      <td>0</td>\n",
       "      <td>0.20</td>\n",
       "    </tr>\n",
       "    <tr>\n",
       "      <th>7</th>\n",
       "      <td>0</td>\n",
       "      <td>0.10</td>\n",
       "    </tr>\n",
       "    <tr>\n",
       "      <th>8</th>\n",
       "      <td>0</td>\n",
       "      <td>0.10</td>\n",
       "    </tr>\n",
       "    <tr>\n",
       "      <th>9</th>\n",
       "      <td>0</td>\n",
       "      <td>0.00</td>\n",
       "    </tr>\n",
       "  </tbody>\n",
       "</table>\n",
       "</div>"
      ],
      "text/plain": [
       "   label  f_probrabilities\n",
       "0      1              0.90\n",
       "1      1              0.35\n",
       "2      0              0.45\n",
       "3      0              0.40\n",
       "4      0              0.20\n",
       "5      0              0.20\n",
       "6      0              0.20\n",
       "7      0              0.10\n",
       "8      0              0.10\n",
       "9      0              0.00"
      ]
     },
     "execution_count": 11,
     "metadata": {},
     "output_type": "execute_result"
    }
   ],
   "source": [
    "#lets dry to turn this into a function later on\n",
    "tx = pd.DataFrame(\n",
    "    {'label': true_labels,\n",
    "     'f_probrabilities': fraud_probabilities,\n",
    "    })\n",
    "tx"
   ]
  },
  {
   "cell_type": "markdown",
   "id": "8f27443e-d8de-4051-a11a-ad4c74f05cb7",
   "metadata": {},
   "source": [
    "Now lets create 3 thresholds:\n",
    "1. t =1: This will clasify all transacions as genuine\n",
    "2. t =0.5: This is usually considered the default threshold and assumes a transaction with a fraud prob higher than 0.5 will be classified as fraud \n",
    "3. t =0.3: This will most likely allow is to correctly allow us to correctly classify the 2 fraudulant transactions"
   ]
  },
  {
   "cell_type": "markdown",
   "id": "f2dcbc57-dd55-4012-9a53-6fd60dab6efd",
   "metadata": {},
   "source": [
    "Lets plot the confusion matrix plots. And lets make sure to keep these important aspects in mind:\n",
    "There are 4 possible outcomes for our matrix:\n",
    "1. TP: True positives. Instances of 1(frauds) that the classifier predicts as fraudulent \n",
    "2. TN: True negatives. These are the instances of class 0(genuine transactions), that the classifier correctly predicts as frauds \n",
    "3. FP: False positives. Class 0(genuine transactions) that the classifier incorrectly predicts as frauds \n",
    "4. FN: False negatives. Class 1(frauds) that the classifier incorrectly predicts as genuine transactions "
   ]
  },
  {
   "cell_type": "code",
   "execution_count": 12,
   "id": "ee967000-1a09-40ba-9479-f7ab6058f92e",
   "metadata": {},
   "outputs": [],
   "source": [
    "def get_class_from_fraud_probability(fraud_probabilities, threshold=0.5):\n",
    "    \n",
    "    predicted_classes = [0 if fraud_probability<threshold else 1 \n",
    "                         for fraud_probability in fraud_probabilities]\n",
    "\n",
    "    return predicted_classes"
   ]
  },
  {
   "cell_type": "markdown",
   "id": "19a2e55f-2376-4e36-917a-4fae00b70251",
   "metadata": {},
   "source": [
    "#### Confusion Matrix for the threshold of 1"
   ]
  },
  {
   "cell_type": "code",
   "execution_count": 80,
   "id": "78aaae7d-97cc-426b-aedb-ba24cb61668d",
   "metadata": {},
   "outputs": [
    {
     "name": "stdout",
     "output_type": "stream",
     "text": [
      "Print Predicted Class: [0, 0, 0, 0, 0, 0, 0, 0, 0, 0]\n",
      "MME: 0.2\n",
      "matrix: [[8 0]\n",
      " [2 0]]\n"
     ]
    }
   ],
   "source": [
    "threshold=1\n",
    "predicted_classes = get_class_from_fraud_probability(fraud_probabilities, threshold)\n",
    "print('Print Predicted Class:',predicted_classes)\n",
    "\n",
    "MME = compute_MME(true_labels,predicted_classes)\n",
    "print('MME:',MME)\n",
    "\n",
    "cf_matrix = confusion_matrix(true_labels, predicted_classes)\n",
    "print('matrix:', cf_matrix)"
   ]
  },
  {
   "cell_type": "code",
   "execution_count": 81,
   "id": "dac5483f-652a-4066-a563-0c7e15fbdc5c",
   "metadata": {},
   "outputs": [
    {
     "data": {
      "text/plain": [
       "<AxesSubplot:>"
      ]
     },
     "execution_count": 81,
     "metadata": {},
     "output_type": "execute_result"
    },
    {
     "data": {
      "image/png": "[encoded data removed]",
      "text/plain": [
       "<Figure size 640x480 with 2 Axes>"
      ]
     },
     "metadata": {},
     "output_type": "display_data"
    }
   ],
   "source": [
    "group_names = ['True Neg','False Pos','False Neg','True Pos']\n",
    "group_counts = ['{0:0.0f}'.format(value) for value in\n",
    "                cf_matrix.flatten()]\n",
    "group_percentages = ['{0:.2%}'.format(value) for value in\n",
    "                     cf_matrix.flatten()/np.sum(cf_matrix)]\n",
    "labels = [f'{v1}\\n{v2}\\n{v3}' for v1, v2, v3 in\n",
    "          zip(group_names,group_counts,group_percentages)]\n",
    "labels = np.asarray(labels).reshape(2,2)\n",
    "sns.heatmap(cf_matrix, annot=labels, fmt='', cmap='Blues')"
   ]
  },
  {
   "cell_type": "markdown",
   "id": "a73456db-7136-4a04-8e06-13d49a56cd0a",
   "metadata": {},
   "source": [
    "With a treshold of t=1, all transactions are predicted as genuine and this classifier makes two mistakes by classifyingg the 2 fraudulent transactions as genuine. As a result this predicter is a little useless to us. The reason why its even able to correctly classify the genuine transactions is due to the fact that the data we have is so imbalanced. "
   ]
  },
  {
   "cell_type": "markdown",
   "id": "1830d041-f91f-4d7d-ace4-26620f517217",
   "metadata": {},
   "source": [
    "#### Confusion Matrix for the threshold of 0.5"
   ]
  },
  {
   "cell_type": "code",
   "execution_count": 82,
   "id": "cf1d993f-637f-492e-9da8-df988129e8fc",
   "metadata": {},
   "outputs": [
    {
     "name": "stdout",
     "output_type": "stream",
     "text": [
      "Print Predicted Class: [1, 0, 0, 0, 0, 0, 0, 0, 0, 0]\n",
      "MME: 0.1\n",
      "matrix: [[8 0]\n",
      " [1 1]]\n"
     ]
    }
   ],
   "source": [
    "threshold=0.5\n",
    "predicted_classes = get_class_from_fraud_probability(fraud_probabilities, threshold)\n",
    "print('Print Predicted Class:',predicted_classes)\n",
    "\n",
    "MME = compute_MME(true_labels,predicted_classes)\n",
    "print('MME:',MME)\n",
    "\n",
    "cf_matrix = confusion_matrix(true_labels, predicted_classes)\n",
    "print('matrix:', cf_matrix)"
   ]
  },
  {
   "cell_type": "code",
   "execution_count": 83,
   "id": "58eb45dc-741d-4ac5-a7fd-bb7b2d0bb230",
   "metadata": {},
   "outputs": [
    {
     "data": {
      "text/plain": [
       "<AxesSubplot:>"
      ]
     },
     "execution_count": 83,
     "metadata": {},
     "output_type": "execute_result"
    },
    {
     "data": {
      "image/png": "[encoded data removed]",
      "text/plain": [
       "<Figure size 640x480 with 2 Axes>"
      ]
     },
     "metadata": {},
     "output_type": "display_data"
    }
   ],
   "source": [
    "group_names = ['True Neg','False Pos','False Neg','True Pos']\n",
    "group_counts = ['{0:0.0f}'.format(value) for value in\n",
    "                cf_matrix.flatten()]\n",
    "group_percentages = ['{0:.2%}'.format(value) for value in\n",
    "                     cf_matrix.flatten()/np.sum(cf_matrix)]\n",
    "labels = [f'{v1}\\n{v2}\\n{v3}' for v1, v2, v3 in\n",
    "          zip(group_names,group_counts,group_percentages)]\n",
    "labels = np.asarray(labels).reshape(2,2)\n",
    "sns.heatmap(cf_matrix, annot=labels, fmt='', cmap='Blues')"
   ]
  },
  {
   "cell_type": "markdown",
   "id": "990ca521-9ef5-43d7-85e2-66d1f40ab925",
   "metadata": {},
   "source": [
    "With this threshold of 0.5 we can see that our classifier is performing better since it only misclassifies only 1 fraudulent transaction. The class imbalance is still effecting it, yet we are getting better"
   ]
  },
  {
   "cell_type": "markdown",
   "id": "880db1be-f511-43f4-8ab5-9dc4e6947624",
   "metadata": {},
   "source": [
    "#### Confusion Matrix for the threshold of 0.3"
   ]
  },
  {
   "cell_type": "code",
   "execution_count": 84,
   "id": "e58ee249-81d1-4858-9083-0537b47e3373",
   "metadata": {},
   "outputs": [
    {
     "name": "stdout",
     "output_type": "stream",
     "text": [
      "Print Predicted Class: [1, 1, 1, 1, 0, 0, 0, 0, 0, 0]\n",
      "MME: 0.2\n",
      "matrix: [[6 2]\n",
      " [0 2]]\n"
     ]
    }
   ],
   "source": [
    "threshold=0.3\n",
    "predicted_classes = get_class_from_fraud_probability(fraud_probabilities, threshold)\n",
    "print('Print Predicted Class:',predicted_classes)\n",
    "\n",
    "MME = compute_MME(true_labels,predicted_classes)\n",
    "print('MME:',MME)\n",
    "\n",
    "cf_matrix = confusion_matrix(true_labels, predicted_classes)\n",
    "print('matrix:', cf_matrix)"
   ]
  },
  {
   "cell_type": "code",
   "execution_count": 85,
   "id": "6d4b8fb6-7aa3-4b49-a729-ea8f804339bd",
   "metadata": {},
   "outputs": [
    {
     "data": {
      "text/plain": [
       "<AxesSubplot:>"
      ]
     },
     "execution_count": 85,
     "metadata": {},
     "output_type": "execute_result"
    },
    {
     "data": {
      "image/png": "[encoded data removed]",
      "text/plain": [
       "<Figure size 640x480 with 2 Axes>"
      ]
     },
     "metadata": {},
     "output_type": "display_data"
    }
   ],
   "source": [
    "group_names = ['True Neg','False Pos','False Neg','True Pos']\n",
    "group_counts = ['{0:0.0f}'.format(value) for value in\n",
    "                cf_matrix.flatten()]\n",
    "group_percentages = ['{0:.2%}'.format(value) for value in\n",
    "                     cf_matrix.flatten()/np.sum(cf_matrix)]\n",
    "labels = [f'{v1}\\n{v2}\\n{v3}' for v1, v2, v3 in\n",
    "          zip(group_names,group_counts,group_percentages)]\n",
    "labels = np.asarray(labels).reshape(2,2)\n",
    "sns.heatmap(cf_matrix, annot=labels, fmt='', cmap='Blues')"
   ]
  },
  {
   "cell_type": "markdown",
   "id": "533575df-528f-4de5-b3e5-9b2ac3b3daa3",
   "metadata": {},
   "source": [
    "Now with this threshold of 0.3, we can see that all of our fraudulent transactions are correctly classified as fraudulent with 2 True Positives, but we also that our classifier has incorrectly classified 2 genuine transactions as fraudulent. Better than our last 2 thresholds yet it is still not optimal."
   ]
  },
  {
   "cell_type": "markdown",
   "id": "e277751b-18fc-45cc-9a15-1d1b059bd3f7",
   "metadata": {},
   "source": [
    "This exercise shows the shortcomings of the MME: it gives the same weight to false negatives and false positives. Our 3rd classifier would work best if we are trully trying to detect fraudulent transactions and find that paramount but the MME is not best when used on its own. Another helpful add to the MME is the Cost Matrix, which would be a matrix that gives a parameter for each variable of TN, FN, TP, FP. This would give us a weightloss function by multiplying each entry of the confusion matrix with the corresponding entry in the cost matrix.\n",
    "                                                                  \n",
    "                                                                                             WL = TNxC0 + FNxC01 + FPxC10 + TPxC11/ N\n",
    "                                                                  \n",
    "The idea would be to give a misclassification error for FP an FN a high cost, probably a cost equal to the fraudulent transaction since that is the cost to the business when the misclassify fraudulent transactions as genuine and vice versa. The overall cost should also include the time taken by the detection system to react. These parameters are very hard to set, yet they do elevate the use of the MME. There are other Performance Metrics that are derived from the confusion matrix that are helpful in helping us decide our models performance. "
   ]
  },
  {
   "cell_type": "markdown",
   "id": "fbd004a7-6957-483e-827b-8640b213d647",
   "metadata": {},
   "source": [
    "### Other Performance Metrics"
   ]
  },
  {
   "cell_type": "markdown",
   "id": "0d8b4a1a-bd8f-4eb8-aafe-04304f7b7560",
   "metadata": {},
   "source": [
    "MME = FP + FN/ N\n",
    "                            \n",
    "                                                                                                 N = TN + TP + FN + FP\n",
    "Accuracy = 1-MME = TP + TN/N: Measures for the set of transactions that are classified correctly\n",
    "                                          \n",
    "Precision = TP /TP + FP: Measures for the set of transactions that are predicted as fraudulent, the proportion of transactions that are indeed fraudulent\n",
    "                                            \n",
    "Recall(TPR) = TP/ TP + FN: Measures the Proportion of negatives that are correctly identified \n",
    "                                            \n",
    "F1 Score = 2 x (Precision x  Recall/ Precision + Recall): Total measure of precision and recall, which can only be computed once a confusion matrix is available (only when threshold t is used for classification)\n",
    "                               \n",
    "Specificity(TNR) = TN/ FP + TN: Measures the proportion of negatives that are correctly identified\n",
    "\n",
    "BER(Balanced Error Rate) = 0.5x(FNR+FPR) FNR being the false negative rate and FPR being the false positive rate: This provides a balance measure of accuracy. BER is a weighted liss wehere the misclassification costs make up for the class imbalance. \n",
    "\n",
    "G-Mean = squareroot(TPRxTNR): An alternative measure to BER that aggregates the TNR(True negative rate) and the TPR(True positive rate). Has an inverse relationship with the BER"
   ]
  },
  {
   "cell_type": "markdown",
   "id": "f2832c03-87b5-4f31-bfb7-83b8aabedad0",
   "metadata": {},
   "source": [
    "Lets take a look at some of these metrics for our example "
   ]
  },
  {
   "cell_type": "code",
   "execution_count": 21,
   "id": "1f481e74-84aa-4c4a-a92a-feedc53477c7",
   "metadata": {},
   "outputs": [],
   "source": [
    "def threshold_based_metrics(fraud_probabilities, true_label, thresholds_list):\n",
    "    \n",
    "    results = []\n",
    "    \n",
    "    for threshold in thresholds_list:\n",
    "    \n",
    "        predicted_classes = get_class_from_fraud_probability(fraud_probabilities, threshold=threshold)\n",
    "    \n",
    "        (TN, FP, FN, TP) = metrics.confusion_matrix(true_label, predicted_classes).ravel()\n",
    "    \n",
    "        MME = (FP+FN)/(TN+FP+FN+TP)\n",
    "    \n",
    "        TPR = TP/(TP+FN)\n",
    "        TNR = TN/(TN+FP)\n",
    "    \n",
    "        FPR = FP/(TN+FP)\n",
    "        FNR = FN/(TP+FN)\n",
    "        \n",
    "        BER = 1/2*(FPR+FNR)\n",
    "        \n",
    "        Gmean = np.sqrt(TPR*TNR)\n",
    "    \n",
    "        precision = 0\n",
    "        FDR = 0\n",
    "        F1_score=0\n",
    "        \n",
    "        if TP+FP>0:\n",
    "            precision = TP/(TP+FP)\n",
    "            FDR=FP/(TP+FP)\n",
    "        \n",
    "        NPV = 0\n",
    "        FOR = 0\n",
    "        \n",
    "        if TN+FN>0:\n",
    "            NPV = TN/(TN+FN)\n",
    "            FOR = FN/(TN+FN)\n",
    "            \n",
    "        \n",
    "        if precision+TPR>0:\n",
    "            F1_score = 2*(precision*TPR)/(precision+TPR)\n",
    "    \n",
    "        results.append([threshold, MME, TPR, TNR, FPR, FNR, BER, Gmean, precision, NPV, FDR, FOR, F1_score])\n",
    "        \n",
    "    results_df = pd.DataFrame(results,columns=['Threshold' ,'MME', 'TPR', 'TNR', 'FPR', 'FNR', 'BER', 'G-mean', 'Precision', 'NPV', 'FDR', 'FOR', 'F1 Score'])\n",
    "    \n",
    "    return results_df"
   ]
  },
  {
   "cell_type": "code",
   "execution_count": 22,
   "id": "990b2c89-3cf9-4f26-9781-69f3ea4dd41e",
   "metadata": {},
   "outputs": [
    {
     "data": {
      "text/plain": [
       "[0.9, 0.45, 0.4, 0.35, 0.2, 0.1, 0]"
      ]
     },
     "execution_count": 22,
     "metadata": {},
     "output_type": "execute_result"
    }
   ],
   "source": [
    "unique_thresholds = list(set(fraud_probabilities))\n",
    "unique_thresholds.sort(reverse=True)\n",
    "unique_thresholds"
   ]
  },
  {
   "cell_type": "code",
   "execution_count": 24,
   "id": "dce210f7-c63b-4bea-a3ba-556bf773a640",
   "metadata": {},
   "outputs": [
    {
     "data": {
      "text/html": [
       "<div>\n",
       "<style scoped>\n",
       "    .dataframe tbody tr th:only-of-type {\n",
       "        vertical-align: middle;\n",
       "    }\n",
       "\n",
       "    .dataframe tbody tr th {\n",
       "        vertical-align: top;\n",
       "    }\n",
       "\n",
       "    .dataframe thead th {\n",
       "        text-align: right;\n",
       "    }\n",
       "</style>\n",
       "<table border=\"1\" class=\"dataframe\">\n",
       "  <thead>\n",
       "    <tr style=\"text-align: right;\">\n",
       "      <th></th>\n",
       "      <th>Threshold</th>\n",
       "      <th>MME</th>\n",
       "      <th>TPR</th>\n",
       "      <th>TNR</th>\n",
       "      <th>FPR</th>\n",
       "      <th>FNR</th>\n",
       "      <th>BER</th>\n",
       "      <th>G-mean</th>\n",
       "      <th>Precision</th>\n",
       "      <th>NPV</th>\n",
       "      <th>FDR</th>\n",
       "      <th>FOR</th>\n",
       "      <th>F1 Score</th>\n",
       "    </tr>\n",
       "  </thead>\n",
       "  <tbody>\n",
       "    <tr>\n",
       "      <th>0</th>\n",
       "      <td>0.90</td>\n",
       "      <td>0.1</td>\n",
       "      <td>0.5</td>\n",
       "      <td>1.000</td>\n",
       "      <td>0.000</td>\n",
       "      <td>0.5</td>\n",
       "      <td>0.2500</td>\n",
       "      <td>0.707107</td>\n",
       "      <td>1.000000</td>\n",
       "      <td>0.888889</td>\n",
       "      <td>0.000000</td>\n",
       "      <td>0.111111</td>\n",
       "      <td>0.666667</td>\n",
       "    </tr>\n",
       "    <tr>\n",
       "      <th>1</th>\n",
       "      <td>0.45</td>\n",
       "      <td>0.2</td>\n",
       "      <td>0.5</td>\n",
       "      <td>0.875</td>\n",
       "      <td>0.125</td>\n",
       "      <td>0.5</td>\n",
       "      <td>0.3125</td>\n",
       "      <td>0.661438</td>\n",
       "      <td>0.500000</td>\n",
       "      <td>0.875000</td>\n",
       "      <td>0.500000</td>\n",
       "      <td>0.125000</td>\n",
       "      <td>0.500000</td>\n",
       "    </tr>\n",
       "    <tr>\n",
       "      <th>2</th>\n",
       "      <td>0.40</td>\n",
       "      <td>0.3</td>\n",
       "      <td>0.5</td>\n",
       "      <td>0.750</td>\n",
       "      <td>0.250</td>\n",
       "      <td>0.5</td>\n",
       "      <td>0.3750</td>\n",
       "      <td>0.612372</td>\n",
       "      <td>0.333333</td>\n",
       "      <td>0.857143</td>\n",
       "      <td>0.666667</td>\n",
       "      <td>0.142857</td>\n",
       "      <td>0.400000</td>\n",
       "    </tr>\n",
       "    <tr>\n",
       "      <th>3</th>\n",
       "      <td>0.35</td>\n",
       "      <td>0.2</td>\n",
       "      <td>1.0</td>\n",
       "      <td>0.750</td>\n",
       "      <td>0.250</td>\n",
       "      <td>0.0</td>\n",
       "      <td>0.1250</td>\n",
       "      <td>0.866025</td>\n",
       "      <td>0.500000</td>\n",
       "      <td>1.000000</td>\n",
       "      <td>0.500000</td>\n",
       "      <td>0.000000</td>\n",
       "      <td>0.666667</td>\n",
       "    </tr>\n",
       "    <tr>\n",
       "      <th>4</th>\n",
       "      <td>0.20</td>\n",
       "      <td>0.5</td>\n",
       "      <td>1.0</td>\n",
       "      <td>0.375</td>\n",
       "      <td>0.625</td>\n",
       "      <td>0.0</td>\n",
       "      <td>0.3125</td>\n",
       "      <td>0.612372</td>\n",
       "      <td>0.285714</td>\n",
       "      <td>1.000000</td>\n",
       "      <td>0.714286</td>\n",
       "      <td>0.000000</td>\n",
       "      <td>0.444444</td>\n",
       "    </tr>\n",
       "    <tr>\n",
       "      <th>5</th>\n",
       "      <td>0.10</td>\n",
       "      <td>0.7</td>\n",
       "      <td>1.0</td>\n",
       "      <td>0.125</td>\n",
       "      <td>0.875</td>\n",
       "      <td>0.0</td>\n",
       "      <td>0.4375</td>\n",
       "      <td>0.353553</td>\n",
       "      <td>0.222222</td>\n",
       "      <td>1.000000</td>\n",
       "      <td>0.777778</td>\n",
       "      <td>0.000000</td>\n",
       "      <td>0.363636</td>\n",
       "    </tr>\n",
       "    <tr>\n",
       "      <th>6</th>\n",
       "      <td>0.00</td>\n",
       "      <td>0.8</td>\n",
       "      <td>1.0</td>\n",
       "      <td>0.000</td>\n",
       "      <td>1.000</td>\n",
       "      <td>0.0</td>\n",
       "      <td>0.5000</td>\n",
       "      <td>0.000000</td>\n",
       "      <td>0.200000</td>\n",
       "      <td>0.000000</td>\n",
       "      <td>0.800000</td>\n",
       "      <td>0.000000</td>\n",
       "      <td>0.333333</td>\n",
       "    </tr>\n",
       "  </tbody>\n",
       "</table>\n",
       "</div>"
      ],
      "text/plain": [
       "   Threshold  MME  TPR    TNR    FPR  FNR     BER    G-mean  Precision  \\\n",
       "0       0.90  0.1  0.5  1.000  0.000  0.5  0.2500  0.707107   1.000000   \n",
       "1       0.45  0.2  0.5  0.875  0.125  0.5  0.3125  0.661438   0.500000   \n",
       "2       0.40  0.3  0.5  0.750  0.250  0.5  0.3750  0.612372   0.333333   \n",
       "3       0.35  0.2  1.0  0.750  0.250  0.0  0.1250  0.866025   0.500000   \n",
       "4       0.20  0.5  1.0  0.375  0.625  0.0  0.3125  0.612372   0.285714   \n",
       "5       0.10  0.7  1.0  0.125  0.875  0.0  0.4375  0.353553   0.222222   \n",
       "6       0.00  0.8  1.0  0.000  1.000  0.0  0.5000  0.000000   0.200000   \n",
       "\n",
       "        NPV       FDR       FOR  F1 Score  \n",
       "0  0.888889  0.000000  0.111111  0.666667  \n",
       "1  0.875000  0.500000  0.125000  0.500000  \n",
       "2  0.857143  0.666667  0.142857  0.400000  \n",
       "3  1.000000  0.500000  0.000000  0.666667  \n",
       "4  1.000000  0.714286  0.000000  0.444444  \n",
       "5  1.000000  0.777778  0.000000  0.363636  \n",
       "6  0.000000  0.800000  0.000000  0.333333  "
      ]
     },
     "execution_count": 24,
     "metadata": {},
     "output_type": "execute_result"
    }
   ],
   "source": [
    "results_df = threshold_based_metrics(fraud_probabilities, true_labels, unique_thresholds)\n",
    "results_df"
   ]
  },
  {
   "cell_type": "markdown",
   "id": "4bee835f-a7a3-4216-9f15-bdf3adaf0d0d",
   "metadata": {},
   "source": [
    "Looking at our table we can see that our threshold of 0.35 is what minimizes our BER and maximizes the G-mean and F1 score. This would be a sensible choice for this example but if the problem is required to maximize precision, a threshold of 0.9 should be selected instead. \n",
    "Overall, the main benefit of threshold based metrics is to provide a detailed view of the misclassification errors, but due to their dependence on the threshold t, they make the comparison of classifiers difficult. When the application constraints and the objective are very clearly defined, these metrics can be useful, but if not, it may be better to perform more generalized comparisons with threshold-free metrics. "
   ]
  },
  {
   "cell_type": "markdown",
   "id": "d63449b3-c6c4-4c39-a6c4-f02445944098",
   "metadata": {},
   "source": [
    "## Threshold Free Metrics"
   ]
  },
  {
   "cell_type": "markdown",
   "id": "6b42e731-380d-4b43-a9cc-1fb8f6d6d905",
   "metadata": {},
   "source": [
    "### ROC Curve - Receiving Operating Charateristic (ROC) Curve"
   ]
  },
  {
   "cell_type": "markdown",
   "id": "3ee24b1f-ec21-4537-9dc8-fc9e8dc663ea",
   "metadata": {},
   "source": [
    "This is a curve that is obtained by plotting the TPR(True Positive Rate) against the False Positive Rate(FPR) for all the different classification thresholds t. Its the most well known and most used standard for estimating the performance of fraud detection and binary classifications in the literature. Lets take a look at how it is is constructed with an example. "
   ]
  },
  {
   "cell_type": "code",
   "execution_count": null,
   "id": "5fc58445-336a-4f3a-a3e6-9ba10122c5c8",
   "metadata": {},
   "outputs": [],
   "source": [
    "# 2 fraudulent and 8 genuine transactions\n",
    "true_labels = [1,1,0,0,0,0,0,0,0,0]\n",
    "\n",
    "# Probability of fraud for each transaction\n",
    "fraud_probabilities = [0.9,0.35,0.45,0.4,0.2,0.2,0.2,0.1,0.1,0]"
   ]
  },
  {
   "cell_type": "markdown",
   "id": "234fc87c-b472-4aa6-aa6c-11e6cdb82fdc",
   "metadata": {},
   "source": [
    "The first step in computing the ROC curve is getting  all the uniqe possible thresholds for which the TPR(True Positive Rate) and FPR(False Positive Rate) will be computed and sort them out by decreasing order"
   ]
  },
  {
   "cell_type": "code",
   "execution_count": 25,
   "id": "0cbedf6e-00e8-4a2a-8b1e-97dfa3b8f8c7",
   "metadata": {},
   "outputs": [
    {
     "data": {
      "text/plain": [
       "[1.1, 0.9, 0.45, 0.4, 0.35, 0.2, 0.1, 0]"
      ]
     },
     "execution_count": 25,
     "metadata": {},
     "output_type": "execute_result"
    }
   ],
   "source": [
    "unique_thresholds = [1.1]+list(set(fraud_probabilities))\n",
    "unique_thresholds.sort(reverse=True)\n",
    "unique_thresholds"
   ]
  },
  {
   "cell_type": "code",
   "execution_count": 26,
   "id": "de1c483f-49e5-4df4-b50a-0f8f33cb5834",
   "metadata": {},
   "outputs": [
    {
     "data": {
      "text/html": [
       "<div>\n",
       "<style scoped>\n",
       "    .dataframe tbody tr th:only-of-type {\n",
       "        vertical-align: middle;\n",
       "    }\n",
       "\n",
       "    .dataframe tbody tr th {\n",
       "        vertical-align: top;\n",
       "    }\n",
       "\n",
       "    .dataframe thead th {\n",
       "        text-align: right;\n",
       "    }\n",
       "</style>\n",
       "<table border=\"1\" class=\"dataframe\">\n",
       "  <thead>\n",
       "    <tr style=\"text-align: right;\">\n",
       "      <th></th>\n",
       "      <th>Threshold</th>\n",
       "      <th>TPR</th>\n",
       "      <th>FPR</th>\n",
       "    </tr>\n",
       "  </thead>\n",
       "  <tbody>\n",
       "    <tr>\n",
       "      <th>0</th>\n",
       "      <td>1.10</td>\n",
       "      <td>0.0</td>\n",
       "      <td>0.000</td>\n",
       "    </tr>\n",
       "    <tr>\n",
       "      <th>1</th>\n",
       "      <td>0.90</td>\n",
       "      <td>0.5</td>\n",
       "      <td>0.000</td>\n",
       "    </tr>\n",
       "    <tr>\n",
       "      <th>2</th>\n",
       "      <td>0.45</td>\n",
       "      <td>0.5</td>\n",
       "      <td>0.125</td>\n",
       "    </tr>\n",
       "    <tr>\n",
       "      <th>3</th>\n",
       "      <td>0.40</td>\n",
       "      <td>0.5</td>\n",
       "      <td>0.250</td>\n",
       "    </tr>\n",
       "    <tr>\n",
       "      <th>4</th>\n",
       "      <td>0.35</td>\n",
       "      <td>1.0</td>\n",
       "      <td>0.250</td>\n",
       "    </tr>\n",
       "    <tr>\n",
       "      <th>5</th>\n",
       "      <td>0.20</td>\n",
       "      <td>1.0</td>\n",
       "      <td>0.625</td>\n",
       "    </tr>\n",
       "    <tr>\n",
       "      <th>6</th>\n",
       "      <td>0.10</td>\n",
       "      <td>1.0</td>\n",
       "      <td>0.875</td>\n",
       "    </tr>\n",
       "    <tr>\n",
       "      <th>7</th>\n",
       "      <td>0.00</td>\n",
       "      <td>1.0</td>\n",
       "      <td>1.000</td>\n",
       "    </tr>\n",
       "  </tbody>\n",
       "</table>\n",
       "</div>"
      ],
      "text/plain": [
       "   Threshold  TPR    FPR\n",
       "0       1.10  0.0  0.000\n",
       "1       0.90  0.5  0.000\n",
       "2       0.45  0.5  0.125\n",
       "3       0.40  0.5  0.250\n",
       "4       0.35  1.0  0.250\n",
       "5       0.20  1.0  0.625\n",
       "6       0.10  1.0  0.875\n",
       "7       0.00  1.0  1.000"
      ]
     },
     "execution_count": 26,
     "metadata": {},
     "output_type": "execute_result"
    }
   ],
   "source": [
    "performance_metrics=threshold_based_metrics(fraud_probabilities, true_labels, unique_thresholds)\n",
    "performance_metrics[['Threshold','TPR','FPR']]"
   ]
  },
  {
   "cell_type": "markdown",
   "id": "862bb65b-62f2-4725-ad1a-d6038837585e",
   "metadata": {},
   "source": [
    "As we can see the lower the threshold, the higher the likelihood of fraud being detected (We can see the FPR decreasing and the TPR increasing as the t rate lowers). 0.35 would be ideal as it has the lowest FPR as well as a high TPR"
   ]
  },
  {
   "cell_type": "markdown",
   "id": "63b7c4ab-4e73-4203-8dce-9b8655d6e4ec",
   "metadata": {},
   "source": [
    "Now lets use the ROC curve function in sklearn.metrics ot compute the thresholds as well as their corresponding FPR and TPR rates"
   ]
  },
  {
   "cell_type": "code",
   "execution_count": 27,
   "id": "151d3c89-a8cf-4533-8a9e-9507f074a8af",
   "metadata": {},
   "outputs": [
    {
     "data": {
      "text/plain": [
       "(array([0.   , 0.   , 0.125, 0.25 , 0.25 , 0.625, 0.875, 1.   ]),\n",
       " array([0. , 0.5, 0.5, 0.5, 1. , 1. , 1. , 1. ]),\n",
       " array([1.9 , 0.9 , 0.45, 0.4 , 0.35, 0.2 , 0.1 , 0.  ]))"
      ]
     },
     "execution_count": 27,
     "metadata": {},
     "output_type": "execute_result"
    }
   ],
   "source": [
    "FPR_list, TPR_list, threshold = sklearn.metrics.roc_curve(true_labels, fraud_probabilities, drop_intermediate=False)\n",
    "FPR_list, TPR_list, threshold"
   ]
  },
  {
   "cell_type": "code",
   "execution_count": null,
   "id": "b88b4370-2865-4753-8878-3a3cc5554066",
   "metadata": {},
   "outputs": [],
   "source": [
    "%%capture\n",
    "def get_template_roc_curve(ax, title,fs,random=True):\n",
    "    \n",
    "    ax.set_title(title, fontsize=fs)\n",
    "    ax.set_xlim([-0.01, 1.01])\n",
    "    ax.set_ylim([-0.01, 1.01])\n",
    "    \n",
    "    ax.set_xlabel('False Positive Rate', fontsize=fs)\n",
    "    ax.set_ylabel('True Positive Rate', fontsize=fs)\n",
    "    \n",
    "    if random:\n",
    "        ax.plot([0, 1], [0, 1],'r--',label=\"AUC ROC Random = 0.5\")\n",
    "\n",
    "ROC_AUC = metrics.auc(FPR_list, TPR_list)    \n",
    "    \n",
    "roc_curve, ax = plt.subplots(figsize=(5,5))\n",
    "get_template_roc_curve(ax, \"Receiver Operating Characteristic (ROC) Curve\",fs=15)\n",
    "ax.plot(FPR_list, TPR_list, 'b', color='blue', label = 'AUC ROC Classifier = {0:0.3f}'.format(ROC_AUC))\n",
    "ax.legend(loc = 'lower right')"
   ]
  },
  {
   "cell_type": "code",
   "execution_count": 29,
   "id": "bdc8929a-cedc-4a38-806a-4efacb1aafcc",
   "metadata": {},
   "outputs": [
    {
     "data": {
      "image/png": "[encoded data removed]",
      "text/plain": [
       "<Figure size 500x500 with 1 Axes>"
      ]
     },
     "execution_count": 29,
     "metadata": {},
     "output_type": "execute_result"
    }
   ],
   "source": [
    "roc_curve"
   ]
  },
  {
   "cell_type": "markdown",
   "id": "2bef07e4-36ca-44a8-96ef-6cd25a83752d",
   "metadata": {},
   "source": [
    "The ROC Curve has 3 important properties:\n",
    "1. First, they are monotonic functions: The TPR can only increase as the FPR increases. \n",
    "2. the area under the curve has a probabilistic interpretation: The AUC ROC can be interpreted as the probability that the scores given by a classifier will rank a randomly chosen positive instance higher than a randomly chosen negative one. Third, the AUC ROC of a random classifier is 0.5\n",
    "3. Third, the AUC ROC of a random classifier is 0.5"
   ]
  },
  {
   "cell_type": "markdown",
   "id": "d70ab8df-d40d-446f-aa42-93503cdfb3ef",
   "metadata": {},
   "source": [
    "This is a good way to get a sense of a classifiers performance over the whole range of possible FPR, but this curve and metric alone can be inadequate for imbalanced problems. Lets take a look at another Threshold free performance metric. "
   ]
  },
  {
   "cell_type": "markdown",
   "id": "868be311-097c-4f1e-bb3f-80cf64775de8",
   "metadata": {},
   "source": [
    "### Precision-Recall curve"
   ]
  },
  {
   "cell_type": "markdown",
   "id": "b534c63f-8978-4e0d-a615-98cd67bbbc87",
   "metadata": {},
   "source": [
    "This curve is obtained by plotting the precision against the recall(TPR-True Positive Rate) for all the different classification thresholds t. This is a well liked tool since it allows us to optimize for classifiers that can both a high recall (TPR) and a high precision(a strong inverse relationship between a high TPR and a low FPR)"
   ]
  },
  {
   "cell_type": "markdown",
   "id": "bc7d9e37-1697-4c71-9165-bcf94e961ab6",
   "metadata": {},
   "source": [
    "We'll use the same example we've been using throughout to illustrate this and plot our PR Curve. "
   ]
  },
  {
   "cell_type": "code",
   "execution_count": 31,
   "id": "48c3357d-ba23-49f5-96e1-e1d87e7a40ae",
   "metadata": {},
   "outputs": [
    {
     "data": {
      "text/html": [
       "<div>\n",
       "<style scoped>\n",
       "    .dataframe tbody tr th:only-of-type {\n",
       "        vertical-align: middle;\n",
       "    }\n",
       "\n",
       "    .dataframe tbody tr th {\n",
       "        vertical-align: top;\n",
       "    }\n",
       "\n",
       "    .dataframe thead th {\n",
       "        text-align: right;\n",
       "    }\n",
       "</style>\n",
       "<table border=\"1\" class=\"dataframe\">\n",
       "  <thead>\n",
       "    <tr style=\"text-align: right;\">\n",
       "      <th></th>\n",
       "      <th>Threshold</th>\n",
       "      <th>Precision</th>\n",
       "      <th>TPR</th>\n",
       "    </tr>\n",
       "  </thead>\n",
       "  <tbody>\n",
       "    <tr>\n",
       "      <th>0</th>\n",
       "      <td>1.10</td>\n",
       "      <td>0.000000</td>\n",
       "      <td>0.0</td>\n",
       "    </tr>\n",
       "    <tr>\n",
       "      <th>1</th>\n",
       "      <td>0.90</td>\n",
       "      <td>1.000000</td>\n",
       "      <td>0.5</td>\n",
       "    </tr>\n",
       "    <tr>\n",
       "      <th>2</th>\n",
       "      <td>0.45</td>\n",
       "      <td>0.500000</td>\n",
       "      <td>0.5</td>\n",
       "    </tr>\n",
       "    <tr>\n",
       "      <th>3</th>\n",
       "      <td>0.40</td>\n",
       "      <td>0.333333</td>\n",
       "      <td>0.5</td>\n",
       "    </tr>\n",
       "    <tr>\n",
       "      <th>4</th>\n",
       "      <td>0.35</td>\n",
       "      <td>0.500000</td>\n",
       "      <td>1.0</td>\n",
       "    </tr>\n",
       "    <tr>\n",
       "      <th>5</th>\n",
       "      <td>0.20</td>\n",
       "      <td>0.285714</td>\n",
       "      <td>1.0</td>\n",
       "    </tr>\n",
       "    <tr>\n",
       "      <th>6</th>\n",
       "      <td>0.10</td>\n",
       "      <td>0.222222</td>\n",
       "      <td>1.0</td>\n",
       "    </tr>\n",
       "    <tr>\n",
       "      <th>7</th>\n",
       "      <td>0.00</td>\n",
       "      <td>0.200000</td>\n",
       "      <td>1.0</td>\n",
       "    </tr>\n",
       "  </tbody>\n",
       "</table>\n",
       "</div>"
      ],
      "text/plain": [
       "   Threshold  Precision  TPR\n",
       "0       1.10   0.000000  0.0\n",
       "1       0.90   1.000000  0.5\n",
       "2       0.45   0.500000  0.5\n",
       "3       0.40   0.333333  0.5\n",
       "4       0.35   0.500000  1.0\n",
       "5       0.20   0.285714  1.0\n",
       "6       0.10   0.222222  1.0\n",
       "7       0.00   0.200000  1.0"
      ]
     },
     "execution_count": 31,
     "metadata": {},
     "output_type": "execute_result"
    }
   ],
   "source": [
    "# 2 fraudulent and 8 genuine transactions\n",
    "true_labels = [1,1,0,0,0,0,0,0,0,0]\n",
    "\n",
    "# Probability of fraud for each transaction\n",
    "fraud_probabilities = [0.9,0.35,0.45,0.4,0.2,0.2,0.2,0.1,0.1,0]\n",
    "\n",
    "unique_thresholds = [1.1]+list(set(fraud_probabilities))\n",
    "unique_thresholds.sort(reverse=True)\n",
    "\n",
    "performance_metrics=threshold_based_metrics(fraud_probabilities, true_labels, unique_thresholds)\n",
    "performance_metrics[['Threshold','Precision','TPR']]"
   ]
  },
  {
   "cell_type": "code",
   "execution_count": null,
   "id": "6dac513b-5239-40b6-a9f7-8a47848ac2bb",
   "metadata": {},
   "outputs": [],
   "source": [
    "Lets us Average Precision which is the weighted mean of precisions obtained at each threshold multiplied by the increase in recall from the previous threshold. "
   ]
  },
  {
   "cell_type": "code",
   "execution_count": 32,
   "id": "9c381139-6250-4096-b457-f8d3751bac94",
   "metadata": {},
   "outputs": [],
   "source": [
    "def compute_AP(precision, recall):\n",
    "    \n",
    "    AP = 0\n",
    "    \n",
    "    n_thresholds = len(precision)\n",
    "    \n",
    "    for i in range(1, n_thresholds):\n",
    "        \n",
    "        if recall[i]-recall[i-1]>=0:\n",
    "            \n",
    "            AP = AP+(recall[i]-recall[i-1])*precision[i]\n",
    "        \n",
    "    return AP"
   ]
  },
  {
   "cell_type": "code",
   "execution_count": 33,
   "id": "273c6c66-65a8-4683-9543-89eae7805fb7",
   "metadata": {},
   "outputs": [
    {
     "data": {
      "text/plain": [
       "<matplotlib.legend.Legend at 0x12a9a6070>"
      ]
     },
     "execution_count": 33,
     "metadata": {},
     "output_type": "execute_result"
    },
    {
     "data": {
      "image/png": "[encoded data removed]",
      "text/plain": [
       "<Figure size 500x500 with 1 Axes>"
      ]
     },
     "metadata": {},
     "output_type": "display_data"
    }
   ],
   "source": [
    "def get_template_pr_curve(ax, title,fs, baseline=0.5):\n",
    "    ax.set_title(title, fontsize=fs)\n",
    "    ax.set_xlim([-0.01, 1.01])\n",
    "    ax.set_ylim([-0.01, 1.01])\n",
    "    \n",
    "    ax.set_xlabel('Recall (True Positive Rate)', fontsize=fs)\n",
    "    ax.set_ylabel('Precision', fontsize=fs)\n",
    "    \n",
    "    ax.plot([0, 1], [baseline, baseline],'r--',label='AP Random = {0:0.3f}'.format(baseline))\n",
    "\n",
    "precision = performance_metrics.Precision.values\n",
    "recall = performance_metrics.TPR.values\n",
    "    \n",
    "pr_curve, ax = plt.subplots(figsize=(5,5))\n",
    "get_template_pr_curve(ax, \"Precision Recall (PR) Curve\",fs=15,baseline=sum(true_labels)/len(true_labels))\n",
    "AP2 = metrics.average_precision_score(true_labels, fraud_probabilities)\n",
    "AP = compute_AP(precision, recall)\n",
    "ax.step(recall, precision, 'b', color='blue', label = 'AP Classifier = {0:0.3f}'.format(AP))\n",
    "ax.legend(loc = 'lower right')"
   ]
  },
  {
   "cell_type": "markdown",
   "id": "5c7d794f-9493-4a98-9c8c-35c3c2656693",
   "metadata": {},
   "source": [
    "The PR curves behave differently from ROC curves in the following ways:\n",
    "1. Not monotonic(don't follow a strict inverse relationship). The precicion may decrease or increase as recall increases) We can see that for a recall of 0.5, the precision first goes down to 0.3 or so then goes up again to about 0.5. These are for thresholds of 0.4 and 0.35 respectively. \n",
    "2. Their AUC does not carry a statistical interpretation as ROC AUC.\n",
    "3. The performance of a random classifier depends on the class imbalance. When our dataset is balanced it should be 0.5 (p/(p+n)). In this case it gives us a Random classifier of 0.2 since our precision 2/(2+8) is 0.2. It better reflects the issue of class imbalance in the data set. The AP of a random classifier will decrease as the class imbalance ratio increases)"
   ]
  },
  {
   "cell_type": "markdown",
   "id": "c222d39e-b960-4288-b9c7-0b38d20b02f3",
   "metadata": {},
   "source": [
    "### Precision top-k metrics¶"
   ]
  },
  {
   "cell_type": "markdown",
   "id": "ffcab104-b90d-4d5b-8598-986b295456c4",
   "metadata": {},
   "source": [
    "Precision top-k metrics aim at quantifying the performance of a Fraud Detection System in the real world. With this metric we are working with the assumption that fraud investigators will be checking for frauds on a daily basis. The k parameter quantifies the maximum number of alerts that can be checked by investigators in a day."
   ]
  },
  {
   "cell_type": "markdown",
   "id": "f661dfd4-3714-4c97-8c8a-3ee89cbbd798",
   "metadata": {},
   "source": [
    "Say we set a precision top k of 100, this will work of the assumption that we think investigators can check about 100 fraud transactions per day. If we get a precision of 0.40, that would indicate that out of the 100 most suspiciously high transactions, 26 of them were truly fraudulent"
   ]
  },
  {
   "cell_type": "code",
   "execution_count": null,
   "id": "f022b94a-bf21-4cef-aea8-5a6abfd990b5",
   "metadata": {},
   "outputs": [],
   "source": []
  }
 ],
 "metadata": {
  "kernelspec": {
   "display_name": "Python 3 (ipykernel)",
   "language": "python",
   "name": "python3"
  },
  "language_info": {
   "codemirror_mode": {
    "name": "ipython",
    "version": 3
   },
   "file_extension": ".py",
   "mimetype": "text/x-python",
   "name": "python",
   "nbconvert_exporter": "python",
   "pygments_lexer": "ipython3",
   "version": "3.9.13"
  }
 },
 "nbformat": 4,
 "nbformat_minor": 5
}
